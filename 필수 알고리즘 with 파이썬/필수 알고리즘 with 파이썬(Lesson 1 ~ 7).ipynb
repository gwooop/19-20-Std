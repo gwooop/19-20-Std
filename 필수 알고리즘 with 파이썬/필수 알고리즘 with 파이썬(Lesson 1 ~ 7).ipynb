{
 "cells": [
  {
   "cell_type": "markdown",
   "metadata": {},
   "source": [
    "# 핵심 개념"
   ]
  },
  {
   "cell_type": "markdown",
   "metadata": {},
   "source": [
    "### 연결 리스트"
   ]
  },
  {
   "cell_type": "code",
   "execution_count": 1,
   "metadata": {},
   "outputs": [
    {
     "name": "stdout",
     "output_type": "stream",
     "text": [
      "A\n",
      "B\n",
      "C\n",
      "D\n"
     ]
    }
   ],
   "source": [
    "class Node:\n",
    "    def __init__(self, data, next=None):\n",
    "        self.data = data\n",
    "        self.next = next\n",
    "\n",
    "def init_list():\n",
    "    global node_A\n",
    "    node_A = Node(\"A\")\n",
    "    node_B = Node(\"B\")\n",
    "    node_C = Node(\"C\")\n",
    "    node_D = Node(\"D\")\n",
    "    node_A.next = node_B\n",
    "    node_B.next = node_C\n",
    "    node_C.next = node_D\n",
    "\n",
    "def print_list():\n",
    "    global node_A\n",
    "    node = node_A\n",
    "    while node:\n",
    "        print(node.data)\n",
    "        node = node.next\n",
    "\n",
    "\n",
    "\n",
    "if __name__ == '__main__':\n",
    "    init_list()\n",
    "    print_list()\n"
   ]
  },
  {
   "cell_type": "markdown",
   "metadata": {},
   "source": [
    "### 연결리스트의 삽입 알고리즘"
   ]
  },
  {
   "cell_type": "code",
   "execution_count": 2,
   "metadata": {},
   "outputs": [
    {
     "name": "stdout",
     "output_type": "stream",
     "text": [
      "연결 리스트 초기화 후\n",
      "A\n",
      "B\n",
      "D\n",
      "E\n",
      "노드 C를 추가한 후\n",
      "A\n",
      "B\n",
      "C\n",
      "D\n",
      "E\n"
     ]
    }
   ],
   "source": [
    "class Node:\n",
    "    def __init__(self, data, next=None):\n",
    "        self.data = data\n",
    "        self.next = next\n",
    "        \n",
    "def init_list():\n",
    "    global node_A\n",
    "    node_A = Node(\"A\")\n",
    "    node_B = Node(\"B\")\n",
    "    node_D = Node(\"D\")\n",
    "    node_E = Node(\"E\")\n",
    "    node_A.next = node_B\n",
    "    node_B.next = node_D\n",
    "    node_D.next = node_E\n",
    "        \n",
    "def insert_node(data):\n",
    "    global node_A\n",
    "    new_node = Node(data)\n",
    "    node_P = node_A\n",
    "    node_T = node_A\n",
    "    while node_T.data <= data:\n",
    "        node_P = node_T\n",
    "        node_T = node_T.next\n",
    "    new_node.next = node_T\n",
    "    node_P.next = new_node\n",
    "    \n",
    "def print_list():\n",
    "    global node_A\n",
    "    node = node_A\n",
    "    while node:\n",
    "        print(node.data)\n",
    "        node = node.next\n",
    "\n",
    "if __name__ == '__main__':\n",
    "    print(\"연결 리스트 초기화 후\")\n",
    "    init_list()\n",
    "    print_list()\n",
    "    print(\"노드 C를 추가한 후\")\n",
    "    insert_node(\"C\")\n",
    "    print_list()"
   ]
  },
  {
   "cell_type": "markdown",
   "metadata": {},
   "source": [
    "### 삽입 알고리즘의 분석"
   ]
  },
  {
   "cell_type": "markdown",
   "metadata": {},
   "source": [
    "#### 시간의 효율성\n",
    "배열에 비해 시간의 효율성이 훨씬 높다.\n",
    "실제 데이터를 삽입하는 과정은 전체 배열의 크기와 연결 리스트의 노드가 많을수록 현격히 차이가 난다."
   ]
  },
  {
   "cell_type": "markdown",
   "metadata": {},
   "source": [
    "#### 공간의 효율성\n",
    "배열의 크기를 변경시키지 못하는 것에 반해 연결 리스트는 언제든지 필요할 때 동적으로 공간(메모리)을 할당하여 사용할 수 있어 공간의 효율성이 뛰어나다."
   ]
  },
  {
   "cell_type": "markdown",
   "metadata": {},
   "source": [
    "#### 코드의 효율성\n",
    "배열은 인덱스만을 사용하는 것에 비해 연결 리스트는 포인터와 구조체로 되어 있기에 효율성은 부족하다."
   ]
  },
  {
   "cell_type": "markdown",
   "metadata": {},
   "source": [
    "### 연결 리스트의 삭제 알고리즘"
   ]
  },
  {
   "cell_type": "code",
   "execution_count": 3,
   "metadata": {},
   "outputs": [
    {
     "name": "stdout",
     "output_type": "stream",
     "text": [
      "연결 리스트 초기화 후\n",
      "A\n",
      "B\n",
      "D\n",
      "E\n",
      "노드 C를 추가한 후\n",
      "A\n",
      "B\n",
      "C\n",
      "D\n",
      "E\n",
      "노드 D를 삭제한 후\n",
      "A\n",
      "B\n",
      "C\n",
      "E\n"
     ]
    }
   ],
   "source": [
    "class Node:\n",
    "    def __init__(self, data, next=None):\n",
    "        self.data = data\n",
    "        self.next = next\n",
    "        \n",
    "def init_list():\n",
    "    global node_A\n",
    "    node_A = Node(\"A\")\n",
    "    node_B = Node(\"B\")\n",
    "    node_D = Node(\"D\")\n",
    "    node_E = Node(\"E\")\n",
    "    node_A.next = node_B\n",
    "    node_B.next = node_D\n",
    "    node_D.next = node_E\n",
    "    \n",
    "def delete_node(del_data):\n",
    "    global node_A\n",
    "    pre_node = node_A\n",
    "    next_node = pre_node.next\n",
    "    \n",
    "    if pre_node.data == del_data:\n",
    "        node_A = next_node\n",
    "        del pre_node\n",
    "        return\n",
    "    \n",
    "    while next_node:\n",
    "        if next_node.data == del_data:\n",
    "            pre_node.next = next_node.next\n",
    "            del next_node\n",
    "            break\n",
    "        pre_node = next_node\n",
    "        next_node = next_node.next\n",
    "        \n",
    "def insert_node(data):\n",
    "    global node_A\n",
    "    new_node = Node(data)\n",
    "    node_P = node_A\n",
    "    node_T = node_A\n",
    "    while node_T.data <= data:\n",
    "        node_P = node_T\n",
    "        node_T = node_T.next\n",
    "    new_node.next = node_T\n",
    "    node_P.next = new_node\n",
    "    \n",
    "def print_list():\n",
    "    global node_A\n",
    "    node = node_A\n",
    "    while node:\n",
    "        print(node.data)\n",
    "        node = node.next\n",
    "\n",
    "if __name__ == '__main__':\n",
    "    print(\"연결 리스트 초기화 후\")\n",
    "    init_list()\n",
    "    print_list()\n",
    "    print(\"노드 C를 추가한 후\")\n",
    "    insert_node(\"C\")\n",
    "    print_list()\n",
    "    print(\"노드 D를 삭제한 후\")\n",
    "    delete_node(\"D\")\n",
    "    print_list()"
   ]
  },
  {
   "cell_type": "markdown",
   "metadata": {},
   "source": [
    "### 삭제 알고리즘의 분석"
   ]
  },
  {
   "cell_type": "markdown",
   "metadata": {},
   "source": [
    "#### 시간의 효율성\n",
    "삽입 알고리즘과 마찬가지로 배열을 삭제한 데이터 이후의 데이터들을 모두 앞으로 한 칸씩 이동해야 하는 반면에 연결 리스트는 링크를 끊어주고 삭제할 노드만을 해제해주면 된다."
   ]
  },
  {
   "cell_type": "markdown",
   "metadata": {},
   "source": [
    "#### 공간의 효율성\n",
    "연결 리스트는 삽입 알고리즘과 마찬가지로 메모리를 할당하고, 삭제한 메모리를 해제하기 때문에 공간적인 효율성이 높다."
   ]
  },
  {
   "cell_type": "markdown",
   "metadata": {},
   "source": [
    "#### 코드의 효율성\n",
    "삽입 알고리즘과 동일하게 인덱스와의 차이로 배열이 좀 더 낫다."
   ]
  },
  {
   "cell_type": "markdown",
   "metadata": {},
   "source": [
    "### 이중 연결 리스트"
   ]
  },
  {
   "cell_type": "code",
   "execution_count": 4,
   "metadata": {},
   "outputs": [
    {
     "name": "stdout",
     "output_type": "stream",
     "text": [
      "연결리스트 초기화 후\n",
      "A\n",
      "B\n",
      "D\n",
      "E\n"
     ]
    }
   ],
   "source": [
    "class Node:\n",
    "    def __init__(self, data, next=None, prev=None):\n",
    "        self.data = data\n",
    "        self.next = next\n",
    "        self.prev = prev\n",
    "        \n",
    "def init_list():\n",
    "    global node_A\n",
    "    node_A = Node(\"A\")\n",
    "    node_B = Node(\"B\")\n",
    "    node_D = Node(\"D\")\n",
    "    node_E = Node(\"E\")\n",
    "    node_A.next = node_B\n",
    "    node_B.next = node_D\n",
    "    node_B.prev = node_A\n",
    "    node_D.next = node_E\n",
    "    node_D.prev = node_B\n",
    "    \n",
    "def print_list():\n",
    "    global node_A\n",
    "    node = node_A\n",
    "    while node:\n",
    "        print(node.data)\n",
    "        node = node.next\n",
    "    \n",
    "if __name__ == '__main__':\n",
    "    print(\"연결리스트 초기화 후\")\n",
    "    init_list()\n",
    "    print_list()"
   ]
  },
  {
   "cell_type": "markdown",
   "metadata": {},
   "source": [
    "### 이중 연결 리스트의 삽입 알고리즘"
   ]
  },
  {
   "cell_type": "code",
   "execution_count": 8,
   "metadata": {},
   "outputs": [
    {
     "name": "stdout",
     "output_type": "stream",
     "text": [
      "연결리스트 초기화 후\n",
      "A\n",
      "B\n",
      "D\n",
      "E\n",
      "\n",
      "노드 C의 추가 후\n",
      "A\n",
      "B\n",
      "C\n",
      "D\n",
      "E\n",
      "\n"
     ]
    }
   ],
   "source": [
    "class Node:\n",
    "    def __init__(self, data, next=None, prev=None):\n",
    "        self.data = data\n",
    "        self.next = next\n",
    "        self.prev = prev\n",
    "        \n",
    "def init_list():\n",
    "    global node_A\n",
    "    node_A = Node(\"A\")\n",
    "    node_B = Node(\"B\")\n",
    "    node_D = Node(\"D\")\n",
    "    node_E = Node(\"E\")\n",
    "    node_A.next = node_B\n",
    "    node_B.next = node_D\n",
    "    node_B.prev = node_A\n",
    "    node_D.next = node_E\n",
    "    node_D.prev = node_B\n",
    "    \n",
    "def insert_node(data):\n",
    "    global node_A\n",
    "    new_node = Node(data)\n",
    "    node_P = node_A\n",
    "    node_T = node_A\n",
    "    while node_T.data <= data:\n",
    "        node_P = node_T\n",
    "        node_T = node_T.next\n",
    "    new_node.next = node_T\n",
    "    node_P.next = new_node\n",
    "    new_node.prev = node_P\n",
    "    node_T.prev = new_node\n",
    "    \n",
    "def print_list():\n",
    "    global node_A\n",
    "    node = node_A\n",
    "    while node:\n",
    "        print(node.data)\n",
    "        node = node.next\n",
    "    print()\n",
    "    \n",
    "if __name__ == '__main__':\n",
    "    print(\"연결리스트 초기화 후\")\n",
    "    init_list()\n",
    "    print_list()\n",
    "    \n",
    "    print(\"노드 C의 추가 후\")\n",
    "    insert_node(\"C\")\n",
    "    print_list()"
   ]
  },
  {
   "cell_type": "markdown",
   "metadata": {},
   "source": [
    "### 이중 연결 리스트의 삭제 알고리즘\n",
    "※ 책과는 다른 부분이 있으니 주의할 것"
   ]
  },
  {
   "cell_type": "code",
   "execution_count": 11,
   "metadata": {},
   "outputs": [
    {
     "name": "stdout",
     "output_type": "stream",
     "text": [
      "연결리스트 초기화 후\n",
      "A\n",
      "B\n",
      "D\n",
      "E\n",
      "\n",
      "노드 C의 추가 후\n",
      "A\n",
      "B\n",
      "C\n",
      "D\n",
      "E\n",
      "\n",
      "노드 D의 삭제 후\n",
      "A\n",
      "B\n",
      "C\n",
      "E\n",
      "\n"
     ]
    }
   ],
   "source": [
    "class Node:\n",
    "    def __init__(self, data, next=None, prev=None):\n",
    "        self.data = data\n",
    "        self.next = next\n",
    "        self.prev = prev\n",
    "        \n",
    "def init_list():\n",
    "    global node_A\n",
    "    node_A = Node(\"A\")\n",
    "    node_B = Node(\"B\")\n",
    "    node_D = Node(\"D\")\n",
    "    node_E = Node(\"E\")\n",
    "    node_A.next = node_B\n",
    "    node_B.next = node_D\n",
    "    node_B.prev = node_A\n",
    "    node_D.next = node_E\n",
    "    node_D.prev = node_B\n",
    "    \n",
    "def insert_node(data):\n",
    "    global node_A\n",
    "    new_node = Node(data)\n",
    "    node_P = node_A\n",
    "    node_T = node_A\n",
    "    while node_T.data <= data:\n",
    "        node_P = node_T\n",
    "        node_T = node_T.next\n",
    "    new_node.next = node_T\n",
    "    node_P.next = new_node\n",
    "    new_node.prev = node_P\n",
    "    node_T.prev = new_node\n",
    "    \n",
    "def delete_node(del_data):\n",
    "    global node_A\n",
    "    pre_node = node_A\n",
    "    next_node = pre_node.next\n",
    "    next_next_node = next_node.next\n",
    "    \n",
    "    if pre_node.data == del_data:\n",
    "        node_A = next_node\n",
    "        del pre_node\n",
    "        return\n",
    "    \n",
    "    while next_node:\n",
    "        if next_node.data == del_data:\n",
    "            next_next_node = next_node.next\n",
    "            pre_node.next = next_node.next\n",
    "            next_next_node.prev = next_node.prev\n",
    "            del next_node\n",
    "            break\n",
    "        pre_node = next_node\n",
    "        next_node = next_node.next\n",
    "    \n",
    "def print_list():\n",
    "    global node_A\n",
    "    node = node_A\n",
    "    while node:\n",
    "        print(node.data)\n",
    "        node = node.next\n",
    "    print()\n",
    "    \n",
    "if __name__ == '__main__':\n",
    "    print(\"연결리스트 초기화 후\")\n",
    "    init_list()\n",
    "    print_list()\n",
    "    \n",
    "    print(\"노드 C의 추가 후\")\n",
    "    insert_node(\"C\")\n",
    "    print_list()\n",
    "    \n",
    "    print(\"노드 D의 삭제 후\")\n",
    "    delete_node(\"D\")\n",
    "    print_list()"
   ]
  },
  {
   "cell_type": "markdown",
   "metadata": {},
   "source": [
    "### 스택의 구현\n",
    "LIFO(Last In First Out) 방식을 사용\n",
    "\n",
    "push, pop"
   ]
  },
  {
   "cell_type": "code",
   "execution_count": 12,
   "metadata": {},
   "outputs": [
    {
     "name": "stdout",
     "output_type": "stream",
     "text": [
      "현재 stack의 모습\n",
      "[1, 2, 3, 4]\n",
      "POP > 4\n",
      "POP > 3\n",
      "POP > 2\n",
      "POP > 1\n"
     ]
    }
   ],
   "source": [
    "def push(item):\n",
    "    stack.append(item)\n",
    "    \n",
    "def pop():\n",
    "    return stack.pop()\n",
    "\n",
    "if __name__ == '__main__':\n",
    "    stack = []\n",
    "    push(1)\n",
    "    push(2)\n",
    "    push(3)\n",
    "    push(4)\n",
    "    print(\"현재 stack의 모습\")\n",
    "    print(stack)\n",
    "    \n",
    "    while stack:\n",
    "        print(\"POP > {}\".format(pop()))"
   ]
  },
  {
   "cell_type": "markdown",
   "metadata": {},
   "source": [
    "#### 시간의 효율성\n",
    "스택 알고리즘 사용시에는 배열과 큰 차이는 없다.\n",
    "\n",
    "#### 공간의 효율성\n",
    "스택을 사용하는 경우에 스택의 크기를 정해놓는 것이 일반적이므로 배열로 구현했을 때의 효율성의 차이는 거의 없다."
   ]
  },
  {
   "cell_type": "markdown",
   "metadata": {},
   "source": [
    "### 큐 알고리즘\n",
    "FIFO(First In First Out)방식을 사용\n",
    "\n",
    "put, get"
   ]
  },
  {
   "cell_type": "code",
   "execution_count": 13,
   "metadata": {},
   "outputs": [
    {
     "name": "stdout",
     "output_type": "stream",
     "text": [
      "현재 queue의 모습\n",
      "[1, 2, 3, 4]\n",
      "POP > 4\n",
      "POP > 3\n",
      "POP > 2\n",
      "POP > 1\n"
     ]
    }
   ],
   "source": [
    "def put(item):\n",
    "    queue.append(item)\n",
    "    \n",
    "def get():\n",
    "    return queue.pop()\n",
    "\n",
    "if __name__ == '__main__':\n",
    "    queue = [] # queue create\n",
    "    put(1)\n",
    "    put(2)\n",
    "    put(3)\n",
    "    put(4)\n",
    "    \n",
    "    print(\"현재 queue의 모습\")\n",
    "    print(queue)\n",
    "    \n",
    "    while queue:\n",
    "        print(\"POP > {}\".format(get()))"
   ]
  },
  {
   "cell_type": "markdown",
   "metadata": {},
   "source": [
    "### 배열을 사용한 큐 알고리즘 분석"
   ]
  },
  {
   "cell_type": "markdown",
   "metadata": {},
   "source": [
    "#### 시간의 효율성\n",
    "스택과 큐는 검색과정이 필요 없기에 시간적인 효율성은 양호하다.\n",
    "\n",
    "#### 공간의 효율성\n",
    "배열로 구현한 큐 알고리즘의 경우 미리 정해놓은 배열의 크기로 한정적이긴 하지만\n",
    "큐의 경우는 원형 큐 형태로 사용한다. 원형 큐는 배열의 전체 크기와는 상관없이 빙빙 돌면서 사용이 가능하다.\n",
    "\n",
    "#### 코드의 효율성\n",
    "배열의 인덱스 형태로 사용하기 때문에 코드가 간단하다."
   ]
  },
  {
   "cell_type": "markdown",
   "metadata": {},
   "source": [
    "### 트리 순회 알고리즘"
   ]
  },
  {
   "cell_type": "code",
   "execution_count": 14,
   "metadata": {},
   "outputs": [],
   "source": [
    "class Node:\n",
    "    def __init__(self, data):\n",
    "        self.data = data\n",
    "        self.left = None\n",
    "        self.right = None\n",
    "        \n",
    "def init_tree():\n",
    "    global root\n",
    "    \n",
    "    new_node = Node(\"A\")\n",
    "    root = new_node\n",
    "    new_node = Node(\"B\")\n",
    "    root.left = new_node\n",
    "    new_node = Node(\"C\")\n",
    "    root.right = new_node\n",
    "    new_node_1 = Node(\"D\")\n",
    "    new_node_2 = Node(\"E\")\n",
    "    node = root.left\n",
    "    node.left = new_node_1\n",
    "    node.right = new_node_2\n",
    "    \n",
    "    new_node_1 = Node(\"F\")\n",
    "    new_node_2 = Node(\"G\")\n",
    "    node = root.right\n",
    "    node.left = new_node_1\n",
    "    node.right = new_node_2"
   ]
  },
  {
   "cell_type": "markdown",
   "metadata": {},
   "source": [
    "### 전위 순회 알고리즘"
   ]
  },
  {
   "cell_type": "code",
   "execution_count": 15,
   "metadata": {},
   "outputs": [],
   "source": [
    "def preorder_traverse(node):\n",
    "    if node == None:return\n",
    "    print(node.data, end=' -> ')\n",
    "    preorder_traverse(node.left)\n",
    "    preorder_traverse(node.right)"
   ]
  },
  {
   "cell_type": "markdown",
   "metadata": {},
   "source": [
    "### 중위 순회 알고리즘"
   ]
  },
  {
   "cell_type": "code",
   "execution_count": 16,
   "metadata": {},
   "outputs": [],
   "source": [
    "def inorder_traverse(node):\n",
    "    if node == None: return\n",
    "    inorder_traverse(node.left)\n",
    "    print(node.data, end = ' -> ')\n",
    "    inorder_traverse(node.right)"
   ]
  },
  {
   "cell_type": "markdown",
   "metadata": {},
   "source": [
    "### 후위 순회 알고리즘"
   ]
  },
  {
   "cell_type": "code",
   "execution_count": 17,
   "metadata": {},
   "outputs": [],
   "source": [
    "def postorder_traverse(node):\n",
    "    if node == None: return\n",
    "    postorder_traverse(node.left)\n",
    "    postorder_traverse(node.right)\n",
    "    print(node.data, end = ' -> ')"
   ]
  },
  {
   "cell_type": "markdown",
   "metadata": {},
   "source": [
    "### 단계 순회 알고리즘"
   ]
  },
  {
   "cell_type": "code",
   "execution_count": 18,
   "metadata": {},
   "outputs": [],
   "source": [
    "levelq = []\n",
    "\n",
    "def levelorder_traverse(node):\n",
    "    global levelq\n",
    "    levelq.append(node)\n",
    "    while len(levelq) != 0:\n",
    "        # visit\n",
    "        visit_node = levelq.pop(0)\n",
    "        print(visit_node.data, end = ' -> ')\n",
    "        # childput\n",
    "        if visit_node.left != None:\n",
    "            levelq.append(visit_node.left)\n",
    "        if visit_node.right != None:\n",
    "            levelq.append(visit_node.right)"
   ]
  },
  {
   "cell_type": "markdown",
   "metadata": {},
   "source": [
    "### 전체 코드"
   ]
  },
  {
   "cell_type": "code",
   "execution_count": 25,
   "metadata": {},
   "outputs": [
    {
     "name": "stdout",
     "output_type": "stream",
     "text": [
      "<Preorder Traverse>\n",
      "A -> B -> D -> E -> C -> F -> G -> \n",
      "<Inorder Traverse>\n",
      "D -> B -> E -> A -> F -> C -> G -> \n",
      "<Postorder Traverse>\n",
      "D -> E -> B -> F -> G -> C -> A -> \n",
      "<Levelorder Traverse>\n",
      "A -> B -> C -> D -> E -> F -> G -> \n"
     ]
    }
   ],
   "source": [
    "# 트리에서 사용할 노드 클래스의 선언\n",
    "class Node:\n",
    "    def __init__(self, data):\n",
    "        self.data = data\n",
    "        self.left = None\n",
    "        self.right = None\n",
    "        \n",
    "# 전위 순회 알고리즘\n",
    "def preorder_traverse(node):\n",
    "    if node == None: return\n",
    "    print(node.data, end = ' -> ')\n",
    "    preorder_traverse(node.left)\n",
    "    preorder_traverse(node.right)\n",
    "    \n",
    "# 중위 순회 알고리즘\n",
    "def inorder_traverse(node):\n",
    "    if node == None: return\n",
    "    inorder_traverse(node.left)\n",
    "    print(node.data, end = ' -> ')\n",
    "    inorder_traverse(node.right)\n",
    "    \n",
    "# 후위 순회 알고리즘\n",
    "def postorder_traverse(node):\n",
    "    if node == None: return\n",
    "    postorder_traverse(node.left)\n",
    "    postorder_traverse(node.right)\n",
    "    print(node.data, end = ' -> ')\n",
    "    \n",
    "root = None\n",
    "\n",
    "# 트리의 초기화\n",
    "def init_tree():\n",
    "    global root\n",
    "    \n",
    "    new_node = Node(\"A\")\n",
    "    root = new_node\n",
    "    new_node = Node(\"B\")\n",
    "    root.left = new_node\n",
    "    new_node = Node(\"C\")\n",
    "    root.right = new_node\n",
    "    new_node_1 = Node(\"D\")\n",
    "    new_node_2 = Node(\"E\")\n",
    "    node = root.left\n",
    "    node.left = new_node_1\n",
    "    node.right = new_node_2\n",
    "    \n",
    "    new_node_1 = Node(\"F\")\n",
    "    new_node_2 = Node(\"G\")\n",
    "    node = root.right\n",
    "    node.left = new_node_1\n",
    "    node.right = new_node_2\n",
    "    \n",
    "levelq = []\n",
    "\n",
    "# 단계 순위 순회 알고리즘\n",
    "def levelorder_traverse(node):\n",
    "    global levelq\n",
    "    levelq.append(node)\n",
    "    while len(levelq) != 0:\n",
    "        # visit\n",
    "        visit_node = levelq.pop(0)\n",
    "        print(visit_node.data, end = ' -> ')\n",
    "        # childput\n",
    "        if visit_node.left != None:\n",
    "            levelq.append(visit_node.left)\n",
    "        if visit_node.right != None:\n",
    "            levelq.append(visit_node.right)  \n",
    "\n",
    "# 순회 프로그램의 시작점\n",
    "if __name__ == '__main__':\n",
    "    init_tree()\n",
    "    print(\"<Preorder Traverse>\")\n",
    "    preorder_traverse(root)\n",
    "    print()\n",
    "    print(\"<Inorder Traverse>\")\n",
    "    inorder_traverse(root)\n",
    "    print()\n",
    "    print(\"<Postorder Traverse>\")\n",
    "    postorder_traverse(root)\n",
    "    print()\n",
    "    print(\"<Levelorder Traverse>\")\n",
    "    levelorder_traverse(root)\n",
    "    print()"
   ]
  },
  {
   "cell_type": "code",
   "execution_count": null,
   "metadata": {},
   "outputs": [],
   "source": []
  }
 ],
 "metadata": {
  "kernelspec": {
   "display_name": "Python 3",
   "language": "python",
   "name": "python3"
  },
  "language_info": {
   "codemirror_mode": {
    "name": "ipython",
    "version": 3
   },
   "file_extension": ".py",
   "mimetype": "text/x-python",
   "name": "python",
   "nbconvert_exporter": "python",
   "pygments_lexer": "ipython3",
   "version": "3.7.4"
  }
 },
 "nbformat": 4,
 "nbformat_minor": 2
}
