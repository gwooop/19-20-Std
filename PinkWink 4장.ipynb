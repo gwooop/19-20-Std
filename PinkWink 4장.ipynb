{
 "cells": [
  {
   "cell_type": "markdown",
   "metadata": {},
   "source": [
    "# 셀프 주유소는 정말 저렴할까"
   ]
  },
  {
   "cell_type": "markdown",
   "metadata": {},
   "source": [
    "### 4-1 Selenium 사용하기"
   ]
  },
  {
   "cell_type": "code",
   "execution_count": 2,
   "metadata": {},
   "outputs": [
    {
     "name": "stdout",
     "output_type": "stream",
     "text": [
      "Collecting selenium\n",
      "  Downloading https://files.pythonhosted.org/packages/80/d6/4294f0b4bce4de0abf13e17190289f9d0613b0a44e5dd6a7f5ca98459853/selenium-3.141.0-py2.py3-none-any.whl (904kB)\n",
      "Requirement already satisfied: urllib3 in c:\\users\\b0110\\anaconda3\\lib\\site-packages (from selenium) (1.24.2)\n",
      "Installing collected packages: selenium\n",
      "Successfully installed selenium-3.141.0\n",
      "Note: you may need to restart the kernel to use updated packages.\n"
     ]
    }
   ],
   "source": [
    "pip install selenium"
   ]
  },
  {
   "cell_type": "code",
   "execution_count": 3,
   "metadata": {},
   "outputs": [],
   "source": [
    "from selenium import webdriver"
   ]
  },
  {
   "cell_type": "code",
   "execution_count": 6,
   "metadata": {},
   "outputs": [],
   "source": [
    "driver = webdriver.Chrome('driver/chromedriver')\n",
    "driver.get(\"http://naver.com\")"
   ]
  },
  {
   "cell_type": "code",
   "execution_count": 7,
   "metadata": {},
   "outputs": [
    {
     "data": {
      "text/plain": [
       "True"
      ]
     },
     "execution_count": 7,
     "metadata": {},
     "output_type": "execute_result"
    }
   ],
   "source": [
    "driver.save_screenshot('images/001.jpg')"
   ]
  },
  {
   "cell_type": "code",
   "execution_count": 8,
   "metadata": {},
   "outputs": [],
   "source": [
    "xpath =\"\"\"//*[@id=\"account\"]/div/a/i\"\"\"\n",
    "driver.find_element_by_xpath(xpath).click()"
   ]
  },
  {
   "cell_type": "code",
   "execution_count": 20,
   "metadata": {},
   "outputs": [],
   "source": [
    "elem_login = driver.find_element_by_id(\"id\")\n",
    "elem_login.clear()\n",
    "elem_login.send_keys(\"rjsdn7106\")\n",
    "\n",
    "elem_login = driver.find_element_by_id(\"pw\")\n",
    "elem_login.clear()\n",
    "elem_login.send_keys(\"pgw2580\")"
   ]
  },
  {
   "cell_type": "code",
   "execution_count": 21,
   "metadata": {},
   "outputs": [],
   "source": [
    "xpath =\"\"\"//*[@id=\"log.login\"]\"\"\"\n",
    "driver.find_element_by_xpath(xpath).click()"
   ]
  },
  {
   "cell_type": "code",
   "execution_count": 18,
   "metadata": {},
   "outputs": [],
   "source": [
    "driver.get(\"http://mail.naver.com\")"
   ]
  },
  {
   "cell_type": "code",
   "execution_count": 26,
   "metadata": {},
   "outputs": [],
   "source": [
    "from bs4 import BeautifulSoup\n",
    "\n",
    "html = driver.page_source\n",
    "soup = BeautifulSoup(html, 'html.parser')"
   ]
  },
  {
   "cell_type": "code",
   "execution_count": 25,
   "metadata": {},
   "outputs": [
    {
     "data": {
      "text/plain": [
       "[<div class=\"name _ccr(lst.from)\"><span class=\"blind\">보낸 이:</span><a class=\"_c1(myContextMenu|showSenderContextLayer|list|36636) _stopDefault\" href=\"#\" title='\"POSTECH SmartLearn 운영팀\" &lt;no-reply@smartlearn.io&gt;'>POSTECH SmartLea..</a></div>,\n",
       " <div class=\"name _ccr(lst.from)\"><span class=\"blind\">보낸 이:</span><a class=\"_c1(myContextMenu|showSenderContextLayer|list|36635) _stopDefault\" href=\"#\" title='\"스펙업 | 대학생,대외활동,공모전,알바,인턴,취업,NCS,공기업\" &lt;navercafe@naver.com&gt;'>스펙업 | 대학생,대외..</a></div>,\n",
       " <div class=\"name _ccr(lst.from)\"><span class=\"blind\">보낸 이:</span><a class=\"_c1(myContextMenu|showSenderContextLayer|list|36634) _stopDefault\" href=\"#\" title='\"[CJ ONE]\" &lt;webmaster@cjone.com&gt;'>[CJ ONE]</a></div>,\n",
       " <div class=\"name _ccr(lst.from)\"><span class=\"blind\">보낸 이:</span><a class=\"_c1(myContextMenu|showSenderContextLayer|list|36633) _stopDefault\" href=\"#\" title='\"인터파크도서\" &lt;news@book.interpark.com&gt;'>인터파크도서</a></div>,\n",
       " <div class=\"name _ccr(lst.from)\"><span class=\"blind\">보낸 이:</span><a class=\"_c1(myContextMenu|showSenderContextLayer|list|36632) _stopDefault\" href=\"#\" title='\"인터파크투어\" &lt;goods@tour.interpark.com&gt;'>인터파크투어</a></div>,\n",
       " <div class=\"name _ccr(lst.from)\"><span class=\"blind\">보낸 이:</span><a class=\"_c1(myContextMenu|showSenderContextLayer|list|36631) _stopDefault\" href=\"#\" title='\"전대모 (대학생,레포트,토익,족보,스펙,공모전,자격증,편입학)\" &lt;navercafe@naver.com&gt;'>전대모 (대학생,레포..</a></div>,\n",
       " <div class=\"name _ccr(lst.from)\"><span class=\"blind\">보낸 이:</span><a class=\"_c1(myContextMenu|showSenderContextLayer|list|36630) _stopDefault\" href=\"#\" title='\"11번가\" &lt;11st@ems.11st.co.kr&gt;'>11번가</a></div>,\n",
       " <div class=\"name _ccr(lst.from)\"><span class=\"blind\">보낸 이:</span><a class=\"_c1(myContextMenu|showSenderContextLayer|list|36629) _stopDefault\" href=\"#\" title='\"티몬 이메일전용딜\" &lt;noreply@tmon.kr&gt;'>티몬 이메일전용딜</a></div>,\n",
       " <div class=\"name _ccr(lst.from)\"><span class=\"blind\">보낸 이:</span><a class=\"_c1(myContextMenu|showSenderContextLayer|list|36628) _stopDefault\" href=\"#\" title='\"원티드 Wanted\" &lt;news@wantedlab.com&gt;'>원티드 Wanted</a></div>,\n",
       " <div class=\"name _ccr(lst.from)\"><span class=\"blind\">보낸 이:</span><a class=\"_c1(myContextMenu|showSenderContextLayer|list|36627) _stopDefault\" href=\"#\" title='\"Namepr\" &lt;namepr@nameprmail.com&gt;'>Namepr</a></div>,\n",
       " <div class=\"name _ccr(lst.from)\"><span class=\"blind\">보낸 이:</span><a class=\"_c1(myContextMenu|showSenderContextLayer|list|36626) _stopDefault\" href=\"#\" title='\"티몬 10분어택\" &lt;noreply@tmon.kr&gt;'>티몬 10분어택</a></div>,\n",
       " <div class=\"name _ccr(lst.from)\"><span class=\"blind\">보낸 이:</span><a class=\"_c1(myContextMenu|showSenderContextLayer|list|36625) _stopDefault\" href=\"#\" title='\"Rentalcars.com\" &lt;mail@sg.rentalcars.com&gt;'>Rentalcars.com</a></div>,\n",
       " <div class=\"name _ccr(lst.from)\"><span class=\"blind\">보낸 이:</span><a class=\"_c1(myContextMenu|showSenderContextLayer|list|36624) _stopDefault\" href=\"#\" title='\"LinkedIn 환영팀\" &lt;messages-noreply@linkedin.com&gt;'>LinkedIn 환영팀</a></div>,\n",
       " <div class=\"name _ccr(lst.from)\"><span class=\"blind\">보낸 이:</span><a class=\"_c1(myContextMenu|showSenderContextLayer|list|36623) _stopDefault\" href=\"#\" title='\"티몬 2020\" &lt;noreply@tmon.kr&gt;'>티몬 2020</a></div>,\n",
       " <div class=\"name _ccr(lst.from)\"><span class=\"blind\">보낸 이:</span><a class=\"_c1(myContextMenu|showSenderContextLayer|list|36622) _stopDefault\" href=\"#\" title='\"사람인 | 추천\" &lt;avatar_matching@mailinfo.saramin.co.kr&gt;'>사람인 | 추천</a></div>]"
      ]
     },
     "execution_count": 25,
     "metadata": {},
     "output_type": "execute_result"
    }
   ],
   "source": [
    "raw_list = soup.find_all('div', 'name _ccr(lst.from)')\n",
    "raw_list"
   ]
  },
  {
   "cell_type": "code",
   "execution_count": 27,
   "metadata": {},
   "outputs": [
    {
     "data": {
      "text/plain": [
       "['POSTECH SmartLea..',\n",
       " '스펙업 | 대학생,대외..',\n",
       " '[CJ ONE]',\n",
       " '인터파크도서',\n",
       " '인터파크투어',\n",
       " '전대모 (대학생,레포..',\n",
       " '11번가',\n",
       " '티몬 이메일전용딜',\n",
       " '원티드 Wanted',\n",
       " 'Namepr',\n",
       " '티몬 10분어택',\n",
       " 'Rentalcars.com',\n",
       " 'LinkedIn 환영팀',\n",
       " '티몬 2020',\n",
       " '사람인 | 추천']"
      ]
     },
     "execution_count": 27,
     "metadata": {},
     "output_type": "execute_result"
    }
   ],
   "source": [
    "send_list = [raw_list[n].find('a').get_text() for n in range(0, len(raw_list))]\n",
    "send_list"
   ]
  },
  {
   "cell_type": "code",
   "execution_count": 28,
   "metadata": {},
   "outputs": [],
   "source": [
    "driver.close()"
   ]
  },
  {
   "cell_type": "markdown",
   "metadata": {},
   "source": [
    "### 서울시 구별 주유소 가격 정보 얻기"
   ]
  },
  {
   "cell_type": "code",
   "execution_count": 89,
   "metadata": {},
   "outputs": [],
   "source": [
    "driver = webdriver.Chrome('driver/chromedriver')\n",
    "driver.get(\"http://www.opinet.co.kr/searRgSelect.do\")"
   ]
  },
  {
   "cell_type": "code",
   "execution_count": 90,
   "metadata": {},
   "outputs": [],
   "source": [
    "xpath =\"\"\"//*[@id=\"os_tab1_1\"]/li[1]/a\"\"\"\n",
    "driver.find_element_by_xpath(xpath).click()"
   ]
  },
  {
   "cell_type": "code",
   "execution_count": 91,
   "metadata": {},
   "outputs": [],
   "source": [
    "from bs4 import BeautifulSoup\n",
    "\n",
    "html = driver.page_source\n",
    "soup = BeautifulSoup(html, 'html.parser')"
   ]
  },
  {
   "cell_type": "code",
   "execution_count": 92,
   "metadata": {},
   "outputs": [],
   "source": [
    "sido_list_raw = driver.find_element_by_xpath(\"\"\"//*[@id=\"SIDO_NM0\"]\"\"\")\n",
    "sido_list = sido_list_raw.find_elements_by_tag_name(\"option\")"
   ]
  },
  {
   "cell_type": "code",
   "execution_count": 93,
   "metadata": {},
   "outputs": [
    {
     "data": {
      "text/plain": [
       "['서울특별시',\n",
       " '부산광역시',\n",
       " '대구광역시',\n",
       " '인천광역시',\n",
       " '광주광역시',\n",
       " '대전광역시',\n",
       " '울산광역시',\n",
       " '세종특별자치시',\n",
       " '경기도',\n",
       " '강원도',\n",
       " '충청북도',\n",
       " '충청남도',\n",
       " '전라북도',\n",
       " '전라남도',\n",
       " '경상북도',\n",
       " '경상남도',\n",
       " '제주특별자치도']"
      ]
     },
     "execution_count": 93,
     "metadata": {},
     "output_type": "execute_result"
    }
   ],
   "source": [
    "sido_names = [option.get_attribute(\"value\") for option in sido_list]\n",
    "sido_names.remove(\"\")\n",
    "sido_names"
   ]
  },
  {
   "cell_type": "code",
   "execution_count": 98,
   "metadata": {},
   "outputs": [],
   "source": [
    "element_sido = driver.find_element_by_id(\"SIDO_NM0\")\n",
    "element_sido.send_keys(sido_names[0])"
   ]
  },
  {
   "cell_type": "code",
   "execution_count": 99,
   "metadata": {},
   "outputs": [],
   "source": [
    "gu_list_raw = driver.find_element_by_xpath(\"\"\"//*[@id=\"SIGUNGU_NM0\"]\"\"\")\n",
    "gu_list = gu_list_raw.find_elements_by_tag_name(\"option\")"
   ]
  },
  {
   "cell_type": "code",
   "execution_count": 100,
   "metadata": {},
   "outputs": [
    {
     "data": {
      "text/plain": [
       "['강남구',\n",
       " '강동구',\n",
       " '강북구',\n",
       " '강서구',\n",
       " '관악구',\n",
       " '광진구',\n",
       " '구로구',\n",
       " '금천구',\n",
       " '노원구',\n",
       " '도봉구',\n",
       " '동대문구',\n",
       " '동작구',\n",
       " '마포구',\n",
       " '서대문구',\n",
       " '서초구',\n",
       " '성동구',\n",
       " '성북구',\n",
       " '송파구',\n",
       " '양천구',\n",
       " '영등포구',\n",
       " '용산구',\n",
       " '은평구',\n",
       " '종로구',\n",
       " '중구',\n",
       " '중랑구']"
      ]
     },
     "execution_count": 100,
     "metadata": {},
     "output_type": "execute_result"
    }
   ],
   "source": [
    "gu_names = [option.get_attribute(\"value\") for option in gu_list]\n",
    "gu_names.remove(\"\")\n",
    "gu_names"
   ]
  },
  {
   "cell_type": "code",
   "execution_count": 101,
   "metadata": {},
   "outputs": [],
   "source": [
    "element_gu = driver.find_element_by_id(\"SIGUNGU_NM0\")\n",
    "element_gu.send_keys(gu_names[0])"
   ]
  },
  {
   "cell_type": "code",
   "execution_count": 102,
   "metadata": {},
   "outputs": [],
   "source": [
    "xpath = \"\"\"//*[@id=\"searRgSelect\"]\"\"\"\n",
    "element_sel_gu = driver.find_element_by_xpath(xpath).click()"
   ]
  },
  {
   "cell_type": "code",
   "execution_count": 103,
   "metadata": {},
   "outputs": [],
   "source": [
    "xpath = \"\"\"//*[@id=\"glopopd_excel\"]\"\"\"\n",
    "element_get_excel = driver.find_element_by_xpath(xpath).click()"
   ]
  },
  {
   "cell_type": "code",
   "execution_count": 105,
   "metadata": {},
   "outputs": [
    {
     "data": {
      "application/vnd.jupyter.widget-view+json": {
       "model_id": "e1f2b588d617474b8eeeacece568b86c",
       "version_major": 2,
       "version_minor": 0
      },
      "text/plain": [
       "HBox(children=(IntProgress(value=0, max=25), HTML(value='')))"
      ]
     },
     "metadata": {},
     "output_type": "display_data"
    },
    {
     "name": "stdout",
     "output_type": "stream",
     "text": [
      "\n"
     ]
    }
   ],
   "source": [
    "import time\n",
    "from tqdm import tqdm_notebook\n",
    "\n",
    "for gu in tqdm_notebook(gu_names):\n",
    "    element = driver.find_element_by_id(\"SIGUNGU_NM0\")\n",
    "    element.send_keys(gu)\n",
    "    \n",
    "    time.sleep(2)\n",
    "    \n",
    "    xpath = \"\"\"//*[@id=\"searRgSelect\"]\"\"\"\n",
    "    element_sel_gu = driver.find_element_by_xpath(xpath).click()\n",
    "    \n",
    "    time.sleep(2)\n",
    "    \n",
    "    xpath = \"\"\"//*[@id=\"glopopd_excel\"]\"\"\"\n",
    "    element_get_excel = driver.find_element_by_xpath(xpath).click()\n",
    "    \n",
    "    time.sleep(2)"
   ]
  },
  {
   "cell_type": "markdown",
   "metadata": {},
   "source": [
    "### 구별 주유 가격에 대한 데이터의 정리"
   ]
  },
  {
   "cell_type": "code",
   "execution_count": 106,
   "metadata": {},
   "outputs": [],
   "source": [
    "import pandas as pd\n",
    "from glob import glob"
   ]
  },
  {
   "cell_type": "code",
   "execution_count": 107,
   "metadata": {},
   "outputs": [
    {
     "data": {
      "text/plain": [
       "['data\\\\지역_위치별(주유소) (1).xls',\n",
       " 'data\\\\지역_위치별(주유소) (10).xls',\n",
       " 'data\\\\지역_위치별(주유소) (11).xls',\n",
       " 'data\\\\지역_위치별(주유소) (12).xls',\n",
       " 'data\\\\지역_위치별(주유소) (13).xls',\n",
       " 'data\\\\지역_위치별(주유소) (14).xls',\n",
       " 'data\\\\지역_위치별(주유소) (15).xls',\n",
       " 'data\\\\지역_위치별(주유소) (16).xls',\n",
       " 'data\\\\지역_위치별(주유소) (17).xls',\n",
       " 'data\\\\지역_위치별(주유소) (18).xls',\n",
       " 'data\\\\지역_위치별(주유소) (19).xls',\n",
       " 'data\\\\지역_위치별(주유소) (2).xls',\n",
       " 'data\\\\지역_위치별(주유소) (20).xls',\n",
       " 'data\\\\지역_위치별(주유소) (21).xls',\n",
       " 'data\\\\지역_위치별(주유소) (22).xls',\n",
       " 'data\\\\지역_위치별(주유소) (23).xls',\n",
       " 'data\\\\지역_위치별(주유소) (24).xls',\n",
       " 'data\\\\지역_위치별(주유소) (3).xls',\n",
       " 'data\\\\지역_위치별(주유소) (4).xls',\n",
       " 'data\\\\지역_위치별(주유소) (5).xls',\n",
       " 'data\\\\지역_위치별(주유소) (6).xls',\n",
       " 'data\\\\지역_위치별(주유소) (7).xls',\n",
       " 'data\\\\지역_위치별(주유소) (8).xls',\n",
       " 'data\\\\지역_위치별(주유소) (9).xls',\n",
       " 'data\\\\지역_위치별(주유소).xls']"
      ]
     },
     "execution_count": 107,
     "metadata": {},
     "output_type": "execute_result"
    }
   ],
   "source": [
    "glob('data/지역*.xls')"
   ]
  },
  {
   "cell_type": "code",
   "execution_count": 108,
   "metadata": {},
   "outputs": [
    {
     "data": {
      "text/plain": [
       "['data\\\\지역_위치별(주유소) (1).xls',\n",
       " 'data\\\\지역_위치별(주유소) (10).xls',\n",
       " 'data\\\\지역_위치별(주유소) (11).xls',\n",
       " 'data\\\\지역_위치별(주유소) (12).xls',\n",
       " 'data\\\\지역_위치별(주유소) (13).xls',\n",
       " 'data\\\\지역_위치별(주유소) (14).xls',\n",
       " 'data\\\\지역_위치별(주유소) (15).xls',\n",
       " 'data\\\\지역_위치별(주유소) (16).xls',\n",
       " 'data\\\\지역_위치별(주유소) (17).xls',\n",
       " 'data\\\\지역_위치별(주유소) (18).xls',\n",
       " 'data\\\\지역_위치별(주유소) (19).xls',\n",
       " 'data\\\\지역_위치별(주유소) (2).xls',\n",
       " 'data\\\\지역_위치별(주유소) (20).xls',\n",
       " 'data\\\\지역_위치별(주유소) (21).xls',\n",
       " 'data\\\\지역_위치별(주유소) (22).xls',\n",
       " 'data\\\\지역_위치별(주유소) (23).xls',\n",
       " 'data\\\\지역_위치별(주유소) (24).xls',\n",
       " 'data\\\\지역_위치별(주유소) (3).xls',\n",
       " 'data\\\\지역_위치별(주유소) (4).xls',\n",
       " 'data\\\\지역_위치별(주유소) (5).xls',\n",
       " 'data\\\\지역_위치별(주유소) (6).xls',\n",
       " 'data\\\\지역_위치별(주유소) (7).xls',\n",
       " 'data\\\\지역_위치별(주유소) (8).xls',\n",
       " 'data\\\\지역_위치별(주유소) (9).xls',\n",
       " 'data\\\\지역_위치별(주유소).xls']"
      ]
     },
     "execution_count": 108,
     "metadata": {},
     "output_type": "execute_result"
    }
   ],
   "source": [
    "stations_files = glob('data/지역*.xls')\n",
    "stations_files"
   ]
  },
  {
   "cell_type": "code",
   "execution_count": 109,
   "metadata": {},
   "outputs": [],
   "source": [
    "tmp_raw = []\n",
    "\n",
    "for file_name in stations_files:\n",
    "    tmp = pd.read_excel(file_name, header=2)\n",
    "    tmp_raw.append(tmp)\n",
    "    \n",
    "station_raw = pd.concat(tmp_raw)"
   ]
  },
  {
   "cell_type": "code",
   "execution_count": 111,
   "metadata": {},
   "outputs": [
    {
     "name": "stdout",
     "output_type": "stream",
     "text": [
      "<class 'pandas.core.frame.DataFrame'>\n",
      "Int64Index: 501 entries, 0 to 41\n",
      "Data columns (total 10 columns):\n",
      "지역       501 non-null object\n",
      "상호       501 non-null object\n",
      "주소       501 non-null object\n",
      "상표       501 non-null object\n",
      "전화번호     501 non-null object\n",
      "셀프여부     501 non-null object\n",
      "고급휘발유    501 non-null object\n",
      "휘발유      501 non-null object\n",
      "경유       501 non-null object\n",
      "실내등유     501 non-null object\n",
      "dtypes: object(10)\n",
      "memory usage: 43.1+ KB\n"
     ]
    }
   ],
   "source": [
    "station_raw.info()"
   ]
  },
  {
   "cell_type": "code",
   "execution_count": 112,
   "metadata": {},
   "outputs": [
    {
     "data": {
      "text/html": [
       "<div>\n",
       "<style scoped>\n",
       "    .dataframe tbody tr th:only-of-type {\n",
       "        vertical-align: middle;\n",
       "    }\n",
       "\n",
       "    .dataframe tbody tr th {\n",
       "        vertical-align: top;\n",
       "    }\n",
       "\n",
       "    .dataframe thead th {\n",
       "        text-align: right;\n",
       "    }\n",
       "</style>\n",
       "<table border=\"1\" class=\"dataframe\">\n",
       "  <thead>\n",
       "    <tr style=\"text-align: right;\">\n",
       "      <th></th>\n",
       "      <th>지역</th>\n",
       "      <th>상호</th>\n",
       "      <th>주소</th>\n",
       "      <th>상표</th>\n",
       "      <th>전화번호</th>\n",
       "      <th>셀프여부</th>\n",
       "      <th>고급휘발유</th>\n",
       "      <th>휘발유</th>\n",
       "      <th>경유</th>\n",
       "      <th>실내등유</th>\n",
       "    </tr>\n",
       "  </thead>\n",
       "  <tbody>\n",
       "    <tr>\n",
       "      <td>0</td>\n",
       "      <td>서울특별시</td>\n",
       "      <td>구천면주유소</td>\n",
       "      <td>서울 강동구 구천면로 357 (암사동)</td>\n",
       "      <td>현대오일뱅크</td>\n",
       "      <td>02-441-0536</td>\n",
       "      <td>N</td>\n",
       "      <td>-</td>\n",
       "      <td>1585</td>\n",
       "      <td>1447</td>\n",
       "      <td>-</td>\n",
       "    </tr>\n",
       "    <tr>\n",
       "      <td>1</td>\n",
       "      <td>서울특별시</td>\n",
       "      <td>천호현대주유소</td>\n",
       "      <td>서울 강동구 천중로 67 (천호동)</td>\n",
       "      <td>현대오일뱅크</td>\n",
       "      <td>02-484-9323</td>\n",
       "      <td>N</td>\n",
       "      <td>-</td>\n",
       "      <td>1596</td>\n",
       "      <td>1457</td>\n",
       "      <td>1200</td>\n",
       "    </tr>\n",
       "    <tr>\n",
       "      <td>2</td>\n",
       "      <td>서울특별시</td>\n",
       "      <td>주)지유에너지직영 오렌지주유소</td>\n",
       "      <td>서울 강동구 성안로 102 (성내동)</td>\n",
       "      <td>SK에너지</td>\n",
       "      <td>02-484-6165</td>\n",
       "      <td>N</td>\n",
       "      <td>-</td>\n",
       "      <td>1596</td>\n",
       "      <td>1476</td>\n",
       "      <td>1147</td>\n",
       "    </tr>\n",
       "    <tr>\n",
       "      <td>3</td>\n",
       "      <td>서울특별시</td>\n",
       "      <td>지에스칼텍스㈜ 신월주유소</td>\n",
       "      <td>서울 강동구 양재대로 1323 (성내동)</td>\n",
       "      <td>GS칼텍스</td>\n",
       "      <td>02-475-2600</td>\n",
       "      <td>N</td>\n",
       "      <td>1798</td>\n",
       "      <td>1598</td>\n",
       "      <td>1483</td>\n",
       "      <td>1100</td>\n",
       "    </tr>\n",
       "    <tr>\n",
       "      <td>4</td>\n",
       "      <td>서울특별시</td>\n",
       "      <td>지에스칼텍스㈜ 동서울주유소</td>\n",
       "      <td>서울 강동구 천호대로 1456 (상일동)</td>\n",
       "      <td>GS칼텍스</td>\n",
       "      <td>02-426-5372</td>\n",
       "      <td>Y</td>\n",
       "      <td>-</td>\n",
       "      <td>1606</td>\n",
       "      <td>1419</td>\n",
       "      <td>-</td>\n",
       "    </tr>\n",
       "  </tbody>\n",
       "</table>\n",
       "</div>"
      ],
      "text/plain": [
       "      지역                상호                      주소      상표         전화번호 셀프여부  \\\n",
       "0  서울특별시            구천면주유소   서울 강동구 구천면로 357 (암사동)  현대오일뱅크  02-441-0536    N   \n",
       "1  서울특별시           천호현대주유소     서울 강동구 천중로 67 (천호동)  현대오일뱅크  02-484-9323    N   \n",
       "2  서울특별시  주)지유에너지직영 오렌지주유소    서울 강동구 성안로 102 (성내동)   SK에너지  02-484-6165    N   \n",
       "3  서울특별시     지에스칼텍스㈜ 신월주유소  서울 강동구 양재대로 1323 (성내동)   GS칼텍스  02-475-2600    N   \n",
       "4  서울특별시    지에스칼텍스㈜ 동서울주유소  서울 강동구 천호대로 1456 (상일동)   GS칼텍스  02-426-5372    Y   \n",
       "\n",
       "  고급휘발유   휘발유    경유  실내등유  \n",
       "0     -  1585  1447     -  \n",
       "1     -  1596  1457  1200  \n",
       "2     -  1596  1476  1147  \n",
       "3  1798  1598  1483  1100  \n",
       "4     -  1606  1419     -  "
      ]
     },
     "execution_count": 112,
     "metadata": {},
     "output_type": "execute_result"
    }
   ],
   "source": [
    "station_raw.head()"
   ]
  },
  {
   "cell_type": "code",
   "execution_count": 113,
   "metadata": {},
   "outputs": [
    {
     "data": {
      "text/html": [
       "<div>\n",
       "<style scoped>\n",
       "    .dataframe tbody tr th:only-of-type {\n",
       "        vertical-align: middle;\n",
       "    }\n",
       "\n",
       "    .dataframe tbody tr th {\n",
       "        vertical-align: top;\n",
       "    }\n",
       "\n",
       "    .dataframe thead th {\n",
       "        text-align: right;\n",
       "    }\n",
       "</style>\n",
       "<table border=\"1\" class=\"dataframe\">\n",
       "  <thead>\n",
       "    <tr style=\"text-align: right;\">\n",
       "      <th></th>\n",
       "      <th>Oil_store</th>\n",
       "      <th>주소</th>\n",
       "      <th>가격</th>\n",
       "      <th>셀프</th>\n",
       "      <th>상표</th>\n",
       "    </tr>\n",
       "  </thead>\n",
       "  <tbody>\n",
       "    <tr>\n",
       "      <td>0</td>\n",
       "      <td>구천면주유소</td>\n",
       "      <td>서울 강동구 구천면로 357 (암사동)</td>\n",
       "      <td>1585</td>\n",
       "      <td>N</td>\n",
       "      <td>현대오일뱅크</td>\n",
       "    </tr>\n",
       "    <tr>\n",
       "      <td>1</td>\n",
       "      <td>천호현대주유소</td>\n",
       "      <td>서울 강동구 천중로 67 (천호동)</td>\n",
       "      <td>1596</td>\n",
       "      <td>N</td>\n",
       "      <td>현대오일뱅크</td>\n",
       "    </tr>\n",
       "    <tr>\n",
       "      <td>2</td>\n",
       "      <td>주)지유에너지직영 오렌지주유소</td>\n",
       "      <td>서울 강동구 성안로 102 (성내동)</td>\n",
       "      <td>1596</td>\n",
       "      <td>N</td>\n",
       "      <td>SK에너지</td>\n",
       "    </tr>\n",
       "    <tr>\n",
       "      <td>3</td>\n",
       "      <td>지에스칼텍스㈜ 신월주유소</td>\n",
       "      <td>서울 강동구 양재대로 1323 (성내동)</td>\n",
       "      <td>1598</td>\n",
       "      <td>N</td>\n",
       "      <td>GS칼텍스</td>\n",
       "    </tr>\n",
       "    <tr>\n",
       "      <td>4</td>\n",
       "      <td>지에스칼텍스㈜ 동서울주유소</td>\n",
       "      <td>서울 강동구 천호대로 1456 (상일동)</td>\n",
       "      <td>1606</td>\n",
       "      <td>Y</td>\n",
       "      <td>GS칼텍스</td>\n",
       "    </tr>\n",
       "  </tbody>\n",
       "</table>\n",
       "</div>"
      ],
      "text/plain": [
       "          Oil_store                      주소    가격 셀프      상표\n",
       "0            구천면주유소   서울 강동구 구천면로 357 (암사동)  1585  N  현대오일뱅크\n",
       "1           천호현대주유소     서울 강동구 천중로 67 (천호동)  1596  N  현대오일뱅크\n",
       "2  주)지유에너지직영 오렌지주유소    서울 강동구 성안로 102 (성내동)  1596  N   SK에너지\n",
       "3     지에스칼텍스㈜ 신월주유소  서울 강동구 양재대로 1323 (성내동)  1598  N   GS칼텍스\n",
       "4    지에스칼텍스㈜ 동서울주유소  서울 강동구 천호대로 1456 (상일동)  1606  Y   GS칼텍스"
      ]
     },
     "execution_count": 113,
     "metadata": {},
     "output_type": "execute_result"
    }
   ],
   "source": [
    "stations = pd.DataFrame({'Oil_store':station_raw['상호'],\n",
    "                        '주소':station_raw['주소'],\n",
    "                        '가격':station_raw['휘발유'],\n",
    "                         '셀프':station_raw['셀프여부'],\n",
    "                         '상표':station_raw['상표']\n",
    "                        })\n",
    "stations.head()"
   ]
  },
  {
   "cell_type": "code",
   "execution_count": 114,
   "metadata": {},
   "outputs": [
    {
     "data": {
      "text/html": [
       "<div>\n",
       "<style scoped>\n",
       "    .dataframe tbody tr th:only-of-type {\n",
       "        vertical-align: middle;\n",
       "    }\n",
       "\n",
       "    .dataframe tbody tr th {\n",
       "        vertical-align: top;\n",
       "    }\n",
       "\n",
       "    .dataframe thead th {\n",
       "        text-align: right;\n",
       "    }\n",
       "</style>\n",
       "<table border=\"1\" class=\"dataframe\">\n",
       "  <thead>\n",
       "    <tr style=\"text-align: right;\">\n",
       "      <th></th>\n",
       "      <th>Oil_store</th>\n",
       "      <th>주소</th>\n",
       "      <th>가격</th>\n",
       "      <th>셀프</th>\n",
       "      <th>상표</th>\n",
       "      <th>구</th>\n",
       "    </tr>\n",
       "  </thead>\n",
       "  <tbody>\n",
       "    <tr>\n",
       "      <td>0</td>\n",
       "      <td>구천면주유소</td>\n",
       "      <td>서울 강동구 구천면로 357 (암사동)</td>\n",
       "      <td>1585</td>\n",
       "      <td>N</td>\n",
       "      <td>현대오일뱅크</td>\n",
       "      <td>강동구</td>\n",
       "    </tr>\n",
       "    <tr>\n",
       "      <td>1</td>\n",
       "      <td>천호현대주유소</td>\n",
       "      <td>서울 강동구 천중로 67 (천호동)</td>\n",
       "      <td>1596</td>\n",
       "      <td>N</td>\n",
       "      <td>현대오일뱅크</td>\n",
       "      <td>강동구</td>\n",
       "    </tr>\n",
       "    <tr>\n",
       "      <td>2</td>\n",
       "      <td>주)지유에너지직영 오렌지주유소</td>\n",
       "      <td>서울 강동구 성안로 102 (성내동)</td>\n",
       "      <td>1596</td>\n",
       "      <td>N</td>\n",
       "      <td>SK에너지</td>\n",
       "      <td>강동구</td>\n",
       "    </tr>\n",
       "    <tr>\n",
       "      <td>3</td>\n",
       "      <td>지에스칼텍스㈜ 신월주유소</td>\n",
       "      <td>서울 강동구 양재대로 1323 (성내동)</td>\n",
       "      <td>1598</td>\n",
       "      <td>N</td>\n",
       "      <td>GS칼텍스</td>\n",
       "      <td>강동구</td>\n",
       "    </tr>\n",
       "    <tr>\n",
       "      <td>4</td>\n",
       "      <td>지에스칼텍스㈜ 동서울주유소</td>\n",
       "      <td>서울 강동구 천호대로 1456 (상일동)</td>\n",
       "      <td>1606</td>\n",
       "      <td>Y</td>\n",
       "      <td>GS칼텍스</td>\n",
       "      <td>강동구</td>\n",
       "    </tr>\n",
       "  </tbody>\n",
       "</table>\n",
       "</div>"
      ],
      "text/plain": [
       "          Oil_store                      주소    가격 셀프      상표    구\n",
       "0            구천면주유소   서울 강동구 구천면로 357 (암사동)  1585  N  현대오일뱅크  강동구\n",
       "1           천호현대주유소     서울 강동구 천중로 67 (천호동)  1596  N  현대오일뱅크  강동구\n",
       "2  주)지유에너지직영 오렌지주유소    서울 강동구 성안로 102 (성내동)  1596  N   SK에너지  강동구\n",
       "3     지에스칼텍스㈜ 신월주유소  서울 강동구 양재대로 1323 (성내동)  1598  N   GS칼텍스  강동구\n",
       "4    지에스칼텍스㈜ 동서울주유소  서울 강동구 천호대로 1456 (상일동)  1606  Y   GS칼텍스  강동구"
      ]
     },
     "execution_count": 114,
     "metadata": {},
     "output_type": "execute_result"
    }
   ],
   "source": [
    "stations['구'] = [eachAddress.split()[1] for eachAddress in stations['주소']]\n",
    "stations.head()"
   ]
  },
  {
   "cell_type": "code",
   "execution_count": 115,
   "metadata": {},
   "outputs": [
    {
     "data": {
      "text/plain": [
       "array(['강동구', '동대문구', '동작구', '마포구', '서대문구', '서초구', '성동구', '성북구', '송파구',\n",
       "       '양천구', '영등포구', '강북구', '용산구', '은평구', '종로구', '중구', '중랑구', '강서구',\n",
       "       '관악구', '광진구', '구로구', '금천구', '노원구', '도봉구', '강남구'], dtype=object)"
      ]
     },
     "execution_count": 115,
     "metadata": {},
     "output_type": "execute_result"
    }
   ],
   "source": [
    "stations['구'].unique()"
   ]
  },
  {
   "cell_type": "code",
   "execution_count": 118,
   "metadata": {},
   "outputs": [
    {
     "data": {
      "text/html": [
       "<div>\n",
       "<style scoped>\n",
       "    .dataframe tbody tr th:only-of-type {\n",
       "        vertical-align: middle;\n",
       "    }\n",
       "\n",
       "    .dataframe tbody tr th {\n",
       "        vertical-align: top;\n",
       "    }\n",
       "\n",
       "    .dataframe thead th {\n",
       "        text-align: right;\n",
       "    }\n",
       "</style>\n",
       "<table border=\"1\" class=\"dataframe\">\n",
       "  <thead>\n",
       "    <tr style=\"text-align: right;\">\n",
       "      <th></th>\n",
       "      <th>Oil_store</th>\n",
       "      <th>주소</th>\n",
       "      <th>가격</th>\n",
       "      <th>셀프</th>\n",
       "      <th>상표</th>\n",
       "      <th>구</th>\n",
       "    </tr>\n",
       "  </thead>\n",
       "  <tbody>\n",
       "    <tr>\n",
       "      <td>10</td>\n",
       "      <td>(주)승지 염리동주유소</td>\n",
       "      <td>서울 마포구 백범로 126 (염리동)</td>\n",
       "      <td>-</td>\n",
       "      <td>N</td>\n",
       "      <td>현대오일뱅크</td>\n",
       "      <td>마포구</td>\n",
       "    </tr>\n",
       "    <tr>\n",
       "      <td>11</td>\n",
       "      <td>서강주유소</td>\n",
       "      <td>서울 마포구 독막로 134 (창전동)</td>\n",
       "      <td>-</td>\n",
       "      <td>N</td>\n",
       "      <td>SK에너지</td>\n",
       "      <td>마포구</td>\n",
       "    </tr>\n",
       "    <tr>\n",
       "      <td>23</td>\n",
       "      <td>장위주유소</td>\n",
       "      <td>서울 성북구 화랑로 110 (하월곡동)</td>\n",
       "      <td>-</td>\n",
       "      <td>N</td>\n",
       "      <td>SK에너지</td>\n",
       "      <td>성북구</td>\n",
       "    </tr>\n",
       "    <tr>\n",
       "      <td>16</td>\n",
       "      <td>삼융주유소</td>\n",
       "      <td>서울 은평구 수색로 299 (수색동)</td>\n",
       "      <td>-</td>\n",
       "      <td>N</td>\n",
       "      <td>SK에너지</td>\n",
       "      <td>은평구</td>\n",
       "    </tr>\n",
       "    <tr>\n",
       "      <td>21</td>\n",
       "      <td>(주)새서울석유 대원셀프주유소</td>\n",
       "      <td>서울 구로구 개봉로 7</td>\n",
       "      <td>-</td>\n",
       "      <td>Y</td>\n",
       "      <td>SK에너지</td>\n",
       "      <td>구로구</td>\n",
       "    </tr>\n",
       "    <tr>\n",
       "      <td>40</td>\n",
       "      <td>삼성주유소</td>\n",
       "      <td>서울 강남구 삼성로 521 (삼성동)</td>\n",
       "      <td>-</td>\n",
       "      <td>N</td>\n",
       "      <td>SK에너지</td>\n",
       "      <td>강남구</td>\n",
       "    </tr>\n",
       "    <tr>\n",
       "      <td>41</td>\n",
       "      <td>동우주유소</td>\n",
       "      <td>서울특별시 강남구  봉은사로 311 (논현동)</td>\n",
       "      <td>-</td>\n",
       "      <td>N</td>\n",
       "      <td>SK에너지</td>\n",
       "      <td>강남구</td>\n",
       "    </tr>\n",
       "  </tbody>\n",
       "</table>\n",
       "</div>"
      ],
      "text/plain": [
       "           Oil_store                         주소 가격 셀프      상표    구\n",
       "10      (주)승지 염리동주유소       서울 마포구 백범로 126 (염리동)  -  N  현대오일뱅크  마포구\n",
       "11             서강주유소       서울 마포구 독막로 134 (창전동)  -  N   SK에너지  마포구\n",
       "23             장위주유소      서울 성북구 화랑로 110 (하월곡동)  -  N   SK에너지  성북구\n",
       "16             삼융주유소       서울 은평구 수색로 299 (수색동)  -  N   SK에너지  은평구\n",
       "21  (주)새서울석유 대원셀프주유소               서울 구로구 개봉로 7  -  Y   SK에너지  구로구\n",
       "40             삼성주유소       서울 강남구 삼성로 521 (삼성동)  -  N   SK에너지  강남구\n",
       "41             동우주유소  서울특별시 강남구  봉은사로 311 (논현동)  -  N   SK에너지  강남구"
      ]
     },
     "execution_count": 118,
     "metadata": {},
     "output_type": "execute_result"
    }
   ],
   "source": [
    "stations[stations['가격']=='-']"
   ]
  },
  {
   "cell_type": "code",
   "execution_count": 119,
   "metadata": {},
   "outputs": [
    {
     "data": {
      "text/html": [
       "<div>\n",
       "<style scoped>\n",
       "    .dataframe tbody tr th:only-of-type {\n",
       "        vertical-align: middle;\n",
       "    }\n",
       "\n",
       "    .dataframe tbody tr th {\n",
       "        vertical-align: top;\n",
       "    }\n",
       "\n",
       "    .dataframe thead th {\n",
       "        text-align: right;\n",
       "    }\n",
       "</style>\n",
       "<table border=\"1\" class=\"dataframe\">\n",
       "  <thead>\n",
       "    <tr style=\"text-align: right;\">\n",
       "      <th></th>\n",
       "      <th>Oil_store</th>\n",
       "      <th>주소</th>\n",
       "      <th>가격</th>\n",
       "      <th>셀프</th>\n",
       "      <th>상표</th>\n",
       "      <th>구</th>\n",
       "    </tr>\n",
       "  </thead>\n",
       "  <tbody>\n",
       "    <tr>\n",
       "      <td>0</td>\n",
       "      <td>구천면주유소</td>\n",
       "      <td>서울 강동구 구천면로 357 (암사동)</td>\n",
       "      <td>1585</td>\n",
       "      <td>N</td>\n",
       "      <td>현대오일뱅크</td>\n",
       "      <td>강동구</td>\n",
       "    </tr>\n",
       "    <tr>\n",
       "      <td>1</td>\n",
       "      <td>천호현대주유소</td>\n",
       "      <td>서울 강동구 천중로 67 (천호동)</td>\n",
       "      <td>1596</td>\n",
       "      <td>N</td>\n",
       "      <td>현대오일뱅크</td>\n",
       "      <td>강동구</td>\n",
       "    </tr>\n",
       "    <tr>\n",
       "      <td>2</td>\n",
       "      <td>주)지유에너지직영 오렌지주유소</td>\n",
       "      <td>서울 강동구 성안로 102 (성내동)</td>\n",
       "      <td>1596</td>\n",
       "      <td>N</td>\n",
       "      <td>SK에너지</td>\n",
       "      <td>강동구</td>\n",
       "    </tr>\n",
       "    <tr>\n",
       "      <td>3</td>\n",
       "      <td>지에스칼텍스㈜ 신월주유소</td>\n",
       "      <td>서울 강동구 양재대로 1323 (성내동)</td>\n",
       "      <td>1598</td>\n",
       "      <td>N</td>\n",
       "      <td>GS칼텍스</td>\n",
       "      <td>강동구</td>\n",
       "    </tr>\n",
       "    <tr>\n",
       "      <td>4</td>\n",
       "      <td>지에스칼텍스㈜ 동서울주유소</td>\n",
       "      <td>서울 강동구 천호대로 1456 (상일동)</td>\n",
       "      <td>1606</td>\n",
       "      <td>Y</td>\n",
       "      <td>GS칼텍스</td>\n",
       "      <td>강동구</td>\n",
       "    </tr>\n",
       "  </tbody>\n",
       "</table>\n",
       "</div>"
      ],
      "text/plain": [
       "          Oil_store                      주소    가격 셀프      상표    구\n",
       "0            구천면주유소   서울 강동구 구천면로 357 (암사동)  1585  N  현대오일뱅크  강동구\n",
       "1           천호현대주유소     서울 강동구 천중로 67 (천호동)  1596  N  현대오일뱅크  강동구\n",
       "2  주)지유에너지직영 오렌지주유소    서울 강동구 성안로 102 (성내동)  1596  N   SK에너지  강동구\n",
       "3     지에스칼텍스㈜ 신월주유소  서울 강동구 양재대로 1323 (성내동)  1598  N   GS칼텍스  강동구\n",
       "4    지에스칼텍스㈜ 동서울주유소  서울 강동구 천호대로 1456 (상일동)  1606  Y   GS칼텍스  강동구"
      ]
     },
     "execution_count": 119,
     "metadata": {},
     "output_type": "execute_result"
    }
   ],
   "source": [
    "stations = stations[stations['가격']!='-']\n",
    "stations.head()"
   ]
  },
  {
   "cell_type": "code",
   "execution_count": 122,
   "metadata": {},
   "outputs": [],
   "source": [
    "stations['가격'] = [float(value) for value in stations['가격']]"
   ]
  },
  {
   "cell_type": "code",
   "execution_count": 123,
   "metadata": {},
   "outputs": [],
   "source": [
    "stations.reset_index(inplace=True)\n",
    "del stations['index']"
   ]
  },
  {
   "cell_type": "code",
   "execution_count": 124,
   "metadata": {},
   "outputs": [
    {
     "name": "stdout",
     "output_type": "stream",
     "text": [
      "<class 'pandas.core.frame.DataFrame'>\n",
      "RangeIndex: 494 entries, 0 to 493\n",
      "Data columns (total 6 columns):\n",
      "Oil_store    494 non-null object\n",
      "주소           494 non-null object\n",
      "가격           494 non-null float64\n",
      "셀프           494 non-null object\n",
      "상표           494 non-null object\n",
      "구            494 non-null object\n",
      "dtypes: float64(1), object(5)\n",
      "memory usage: 23.3+ KB\n"
     ]
    }
   ],
   "source": [
    "stations.info()"
   ]
  },
  {
   "cell_type": "markdown",
   "metadata": {},
   "source": [
    "### 셀프 주유소는 정말 저렴한지 boxplot으로 확인하기"
   ]
  },
  {
   "cell_type": "code",
   "execution_count": 125,
   "metadata": {},
   "outputs": [],
   "source": [
    "import matplotlib.pyplot as plt\n",
    "import seaborn as sns\n",
    "%matplotlib inline\n",
    "\n",
    "import platform \n",
    "\n",
    "path = \"c:/Windows/Fonts/malgun.ttf\"\n",
    "from matplotlib import font_manager, rc\n",
    "font_name = font_manager.FontProperties(fname=path).get_name()\n",
    "rc('font', family=font_name)"
   ]
  },
  {
   "cell_type": "code",
   "execution_count": 127,
   "metadata": {},
   "outputs": [
    {
     "data": {
      "image/png": "[encoded data removed]",
      "text/plain": [
       "<Figure size 864x576 with 1 Axes>"
      ]
     },
     "metadata": {
      "needs_background": "light"
     },
     "output_type": "display_data"
    }
   ],
   "source": [
    "stations.boxplot(column='가격', by='셀프', figsize=(12,8));"
   ]
  },
  {
   "cell_type": "code",
   "execution_count": 128,
   "metadata": {},
   "outputs": [
    {
     "data": {
      "image/png": "[encoded data removed]",
      "text/plain": [
       "<Figure size 864x576 with 1 Axes>"
      ]
     },
     "metadata": {
      "needs_background": "light"
     },
     "output_type": "display_data"
    }
   ],
   "source": [
    "plt.figure(figsize=(12,8))\n",
    "sns.boxplot(x=\"상표\", y=\"가격\", hue=\"셀프\", data=stations, palette=\"Set3\")\n",
    "plt.show()"
   ]
  },
  {
   "cell_type": "code",
   "execution_count": 131,
   "metadata": {},
   "outputs": [
    {
     "data": {
      "image/png": "[encoded data removed]",
      "text/plain": [
       "<Figure size 864x576 with 1 Axes>"
      ]
     },
     "metadata": {
      "needs_background": "light"
     },
     "output_type": "display_data"
    }
   ],
   "source": [
    "plt.figure(figsize=(12,8))\n",
    "sns.boxplot(x=\"상표\", y=\"가격\", data=stations, palette=\"Set3\")\n",
    "sns.swarmplot(x=\"상표\", y=\"가격\", data=stations, color=\".6\")\n",
    "plt.show()"
   ]
  },
  {
   "cell_type": "markdown",
   "metadata": {},
   "source": []
  }
 ],
 "metadata": {
  "kernelspec": {
   "display_name": "Python 3",
   "language": "python",
   "name": "python3"
  },
  "language_info": {
   "codemirror_mode": {
    "name": "ipython",
    "version": 3
   },
   "file_extension": ".py",
   "mimetype": "text/x-python",
   "name": "python",
   "nbconvert_exporter": "python",
   "pygments_lexer": "ipython3",
   "version": "3.7.4"
  }
 },
 "nbformat": 4,
 "nbformat_minor": 2
}
